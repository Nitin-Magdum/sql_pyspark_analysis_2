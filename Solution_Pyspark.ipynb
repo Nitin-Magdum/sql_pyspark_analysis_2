{
 "cells": [
  {
   "cell_type": "code",
   "execution_count": 2,
   "metadata": {},
   "outputs": [],
   "source": [
    "import os\n",
    "from pyspark.sql import SparkSession\n",
    "from pyspark.sql.functions import *\n",
    "from pyspark.sql.types import *\n",
    "from dotenv import load_dotenv\n",
    "import datetime"
   ]
  },
  {
   "cell_type": "code",
   "execution_count": 3,
   "metadata": {},
   "outputs": [],
   "source": [
    "load_dotenv()\n",
    "jdbc_driver_path = \"postgresql-42.7.4.jar\""
   ]
  },
  {
   "cell_type": "code",
   "execution_count": 4,
   "metadata": {},
   "outputs": [],
   "source": [
    "spark = SparkSession.builder \\\n",
    "    .appName('Solution') \\\n",
    "    .config(\"spark.driver.extraClassPath\", jdbc_driver_path) \\\n",
    "    .config(\"spark.sql.execution.arrow.pyspark.enabled\", \"true\") \\\n",
    "    .getOrCreate()"
   ]
  },
  {
   "cell_type": "code",
   "execution_count": 5,
   "metadata": {},
   "outputs": [],
   "source": [
    "jdbcHostname = os.getenv(\"HOST\")\n",
    "jdbcDatabase = os.getenv(\"DB_NAME\")\n",
    "jdbcUsername = os.getenv(\"USER\")\n",
    "jdbcPassword = os.getenv(\"PASSWORD\")\n",
    "jdbcPort = 5432 \n",
    "jdbcDriver = \"org.postgresql.Driver\"\n",
    "\n",
    "connProperties = {\n",
    "  \"user\": jdbcUsername,\n",
    "  \"password\": jdbcPassword,\n",
    "  \"driver\": jdbcDriver\n",
    "}\n",
    "\n",
    "jdbcUrl = f\"jdbc:postgresql://{jdbcHostname}:{jdbcPort}/{jdbcDatabase}\"\n"
   ]
  },
  {
   "cell_type": "code",
   "execution_count": 6,
   "metadata": {},
   "outputs": [],
   "source": [
    "bonus_df = spark.read.jdbc(url=jdbcUrl, table=\"(SELECT * FROM bonus)\", properties=connProperties)\n",
    "title_df = spark.read.jdbc(url=jdbcUrl, table=\"(SELECT * FROM title)\", properties=connProperties)\n",
    "worker_df = spark.read.jdbc(url=jdbcUrl, table=\"(SELECT * FROM worker)\", properties=connProperties)"
   ]
  },
  {
   "cell_type": "markdown",
   "metadata": {},
   "source": [
    "#### Q-1. Fetch “FIRST_NAME” from Worker table using the alias name as WORKER_NAME."
   ]
  },
  {
   "cell_type": "code",
   "execution_count": 7,
   "metadata": {},
   "outputs": [
    {
     "name": "stdout",
     "output_type": "stream",
     "text": [
      "+-----------+\n",
      "|WORKER_NAME|\n",
      "+-----------+\n",
      "|      Megan|\n",
      "|  Katherine|\n",
      "|     Robert|\n",
      "|   Jonathan|\n",
      "|    William|\n",
      "|    Richard|\n",
      "|    Kristen|\n",
      "|      Kevin|\n",
      "|     Thomas|\n",
      "|     Brandy|\n",
      "|    Rebecca|\n",
      "|    William|\n",
      "|       Juan|\n",
      "|    Katelyn|\n",
      "|  Christine|\n",
      "|       John|\n",
      "|      Renee|\n",
      "|      Tonya|\n",
      "|       Lisa|\n",
      "|     Rachel|\n",
      "+-----------+\n",
      "only showing top 20 rows\n",
      "\n"
     ]
    }
   ],
   "source": [
    "worker_df.select(col('first_name').alias('WORKER_NAME')).show()"
   ]
  },
  {
   "cell_type": "markdown",
   "metadata": {},
   "source": [
    "#### Q-2. Fetch “FIRST_NAME” from Worker table in upper case."
   ]
  },
  {
   "cell_type": "code",
   "execution_count": 8,
   "metadata": {},
   "outputs": [
    {
     "name": "stdout",
     "output_type": "stream",
     "text": [
      "+--------------------------------+\n",
      "|upper(first_name AS WORKER_NAME)|\n",
      "+--------------------------------+\n",
      "|                           MEGAN|\n",
      "|                       KATHERINE|\n",
      "|                          ROBERT|\n",
      "|                        JONATHAN|\n",
      "|                         WILLIAM|\n",
      "|                         RICHARD|\n",
      "|                         KRISTEN|\n",
      "|                           KEVIN|\n",
      "|                          THOMAS|\n",
      "|                          BRANDY|\n",
      "|                         REBECCA|\n",
      "|                         WILLIAM|\n",
      "|                            JUAN|\n",
      "|                         KATELYN|\n",
      "|                       CHRISTINE|\n",
      "|                            JOHN|\n",
      "|                           RENEE|\n",
      "|                           TONYA|\n",
      "|                            LISA|\n",
      "|                          RACHEL|\n",
      "+--------------------------------+\n",
      "only showing top 20 rows\n",
      "\n"
     ]
    }
   ],
   "source": [
    "worker_df.select(upper(col('first_name').alias('WORKER_NAME'))).show()"
   ]
  },
  {
   "cell_type": "markdown",
   "metadata": {},
   "source": [
    "#### Q-3. Fetch unique values of DEPARTMENT from Worker table."
   ]
  },
  {
   "cell_type": "code",
   "execution_count": 9,
   "metadata": {},
   "outputs": [
    {
     "name": "stdout",
     "output_type": "stream",
     "text": [
      "+-----------+\n",
      "| department|\n",
      "+-----------+\n",
      "|Engineering|\n",
      "|         HR|\n",
      "|      Admin|\n",
      "|  Marketing|\n",
      "|    Account|\n",
      "+-----------+\n",
      "\n"
     ]
    }
   ],
   "source": [
    "worker_df.select(col('department')).distinct().show()"
   ]
  },
  {
   "cell_type": "markdown",
   "metadata": {},
   "source": [
    "#### Q-4. Print the first three characters of FIRST_NAME from Worker table."
   ]
  },
  {
   "cell_type": "code",
   "execution_count": 10,
   "metadata": {},
   "outputs": [
    {
     "name": "stdout",
     "output_type": "stream",
     "text": [
      "+----------+\n",
      "|first_name|\n",
      "+----------+\n",
      "|       Meg|\n",
      "|       Kat|\n",
      "|       Rob|\n",
      "|       Jon|\n",
      "|       Wil|\n",
      "|       Ric|\n",
      "|       Kri|\n",
      "|       Kev|\n",
      "|       Tho|\n",
      "|       Bra|\n",
      "|       Reb|\n",
      "|       Wil|\n",
      "|       Jua|\n",
      "|       Kat|\n",
      "|       Chr|\n",
      "|       Joh|\n",
      "|       Ren|\n",
      "|       Ton|\n",
      "|       Lis|\n",
      "|       Rac|\n",
      "+----------+\n",
      "only showing top 20 rows\n",
      "\n"
     ]
    }
   ],
   "source": [
    "worker_df.select(substring('first_name',1,3).alias('first_name')).show()"
   ]
  },
  {
   "cell_type": "markdown",
   "metadata": {},
   "source": [
    "#### Q-5. Find the position of the alphabet (‘b’) in the first name column ‘Amitabh’ from Worker table."
   ]
  },
  {
   "cell_type": "code",
   "execution_count": 11,
   "metadata": {},
   "outputs": [
    {
     "name": "stdout",
     "output_type": "stream",
     "text": [
      "+-------------+\n",
      "|position_of_b|\n",
      "+-------------+\n",
      "|            0|\n",
      "|            0|\n",
      "|            3|\n",
      "|            0|\n",
      "|            0|\n",
      "|            0|\n",
      "|            0|\n",
      "|            0|\n",
      "|            0|\n",
      "|            0|\n",
      "|            3|\n",
      "|            0|\n",
      "|            0|\n",
      "|            0|\n",
      "|            0|\n",
      "|            0|\n",
      "|            0|\n",
      "|            0|\n",
      "|            0|\n",
      "|            0|\n",
      "+-------------+\n",
      "only showing top 20 rows\n",
      "\n"
     ]
    }
   ],
   "source": [
    "worker_df.withColumn(\"position_of_b\", instr(col(\"first_name\"), \"b\")) \\\n",
    "    .select(col('position_of_b')) \\\n",
    "    .show()"
   ]
  },
  {
   "cell_type": "markdown",
   "metadata": {},
   "source": [
    "#### Q-6. Print the FIRST_NAME from Worker table after removing white spaces from the right side."
   ]
  },
  {
   "cell_type": "code",
   "execution_count": 12,
   "metadata": {},
   "outputs": [
    {
     "name": "stdout",
     "output_type": "stream",
     "text": [
      "+----------+\n",
      "|first_name|\n",
      "+----------+\n",
      "|     Megan|\n",
      "| Katherine|\n",
      "|    Robert|\n",
      "|  Jonathan|\n",
      "|   William|\n",
      "|   Richard|\n",
      "|   Kristen|\n",
      "|     Kevin|\n",
      "|    Thomas|\n",
      "|    Brandy|\n",
      "|   Rebecca|\n",
      "|   William|\n",
      "|      Juan|\n",
      "|   Katelyn|\n",
      "| Christine|\n",
      "|      John|\n",
      "|     Renee|\n",
      "|     Tonya|\n",
      "|      Lisa|\n",
      "|    Rachel|\n",
      "+----------+\n",
      "only showing top 20 rows\n",
      "\n"
     ]
    }
   ],
   "source": [
    "worker_df.withColumn('first_name',rtrim(col('first_name'))) \\\n",
    "        .select('first_name') \\\n",
    "        .show()"
   ]
  },
  {
   "cell_type": "markdown",
   "metadata": {},
   "source": [
    "#### Q-7. Print the DEPARTMENT from Worker table after removing white spaces from the left side."
   ]
  },
  {
   "cell_type": "code",
   "execution_count": 13,
   "metadata": {},
   "outputs": [
    {
     "name": "stdout",
     "output_type": "stream",
     "text": [
      "+-----------+\n",
      "| department|\n",
      "+-----------+\n",
      "|      Admin|\n",
      "|         HR|\n",
      "|  Marketing|\n",
      "|         HR|\n",
      "|         HR|\n",
      "|Engineering|\n",
      "|    Account|\n",
      "|      Admin|\n",
      "|      Admin|\n",
      "|    Account|\n",
      "|Engineering|\n",
      "|         HR|\n",
      "|         HR|\n",
      "|Engineering|\n",
      "|Engineering|\n",
      "|    Account|\n",
      "|    Account|\n",
      "|Engineering|\n",
      "|  Marketing|\n",
      "|    Account|\n",
      "+-----------+\n",
      "only showing top 20 rows\n",
      "\n"
     ]
    }
   ],
   "source": [
    "worker_df.withColumn('department',ltrim(col('department'))) \\\n",
    "        .select(col('department')) \\\n",
    "        .show()"
   ]
  },
  {
   "cell_type": "markdown",
   "metadata": {},
   "source": [
    "#### Q-8. Fetch the unique values of DEPARTMENT from Worker table and print its length."
   ]
  },
  {
   "cell_type": "code",
   "execution_count": 14,
   "metadata": {},
   "outputs": [
    {
     "name": "stdout",
     "output_type": "stream",
     "text": [
      "+-----------+------+\n",
      "| department|length|\n",
      "+-----------+------+\n",
      "|         HR|     2|\n",
      "|Engineering|    11|\n",
      "|      Admin|     5|\n",
      "|    Account|     7|\n",
      "|  Marketing|     9|\n",
      "+-----------+------+\n",
      "\n"
     ]
    }
   ],
   "source": [
    "worker_df.withColumn(\"length\", length(col('department'))) \\\n",
    "    .select('department','length') \\\n",
    "    .distinct() \\\n",
    "    .show()"
   ]
  },
  {
   "cell_type": "markdown",
   "metadata": {},
   "source": [
    "#### Q-9. Print the FIRST_NAME from Worker table after replacing ‘a’ with ‘A’."
   ]
  },
  {
   "cell_type": "code",
   "execution_count": 15,
   "metadata": {},
   "outputs": [
    {
     "name": "stdout",
     "output_type": "stream",
     "text": [
      "+----------+\n",
      "|first_name|\n",
      "+----------+\n",
      "|     MegAn|\n",
      "| KAtherine|\n",
      "|    Robert|\n",
      "|  JonAthAn|\n",
      "|   WilliAm|\n",
      "|   RichArd|\n",
      "|   Kristen|\n",
      "|     Kevin|\n",
      "|    ThomAs|\n",
      "|    BrAndy|\n",
      "|   RebeccA|\n",
      "|   WilliAm|\n",
      "|      JuAn|\n",
      "|   KAtelyn|\n",
      "| Christine|\n",
      "|      John|\n",
      "|     Renee|\n",
      "|     TonyA|\n",
      "|      LisA|\n",
      "|    RAchel|\n",
      "+----------+\n",
      "only showing top 20 rows\n",
      "\n"
     ]
    }
   ],
   "source": [
    "worker_df.withColumn('first_name',regexp_replace('first_name','a','A')) \\\n",
    "        .select('first_name') \\\n",
    "        .show()"
   ]
  },
  {
   "cell_type": "markdown",
   "metadata": {},
   "source": [
    "#### Q-10. Print the FIRST_NAME and LAST_NAME from Worker table into a single column COMPLETE_NAME. A space char should separate them."
   ]
  },
  {
   "cell_type": "code",
   "execution_count": 16,
   "metadata": {},
   "outputs": [
    {
     "name": "stdout",
     "output_type": "stream",
     "text": [
      "+-----------------+\n",
      "|    complete_name|\n",
      "+-----------------+\n",
      "|         Megan Li|\n",
      "|  Katherine Mccoy|\n",
      "|     Robert Banks|\n",
      "|  Jonathan Miller|\n",
      "|  William Elliott|\n",
      "|       Richard Le|\n",
      "|    Kristen Davis|\n",
      "|     Kevin Thomas|\n",
      "|    Thomas Harris|\n",
      "|   Brandy Sanchez|\n",
      "|     Rebecca Mack|\n",
      "|William Rodriguez|\n",
      "|      Juan Murray|\n",
      "|   Katelyn Harris|\n",
      "|   Christine Carr|\n",
      "|      John Castro|\n",
      "|    Renee Holland|\n",
      "|     Tonya Osborn|\n",
      "|      Lisa Foster|\n",
      "|    Rachel Barnes|\n",
      "+-----------------+\n",
      "only showing top 20 rows\n",
      "\n"
     ]
    }
   ],
   "source": [
    "worker_df.withColumn('complete_name',concat(col('first_name'),lit(' '),col('last_name'))) \\\n",
    "    .select('complete_name') \\\n",
    "    .show()"
   ]
  },
  {
   "cell_type": "markdown",
   "metadata": {},
   "source": [
    "#### Q-11. Print all Worker details from the Worker table order by FIRST_NAME Ascending."
   ]
  },
  {
   "cell_type": "code",
   "execution_count": 22,
   "metadata": {},
   "outputs": [
    {
     "name": "stdout",
     "output_type": "stream",
     "text": [
      "+---------+----------+---------+------+------------+-----------+\n",
      "|worker_id|first_name|last_name|salary|joining_date| department|\n",
      "+---------+----------+---------+------+------------+-----------+\n",
      "|     2955|     Aaron|   Butler|398344|     15:40.4|Engineering|\n",
      "|     6928|     Aaron|   Guzman|212060|     37:50.6|      Admin|\n",
      "|     3845|     Aaron|   Cooper|372431|     20:46.6|Engineering|\n",
      "|     6906|     Aaron|   Hansen|176409|     54:17.1|  Marketing|\n",
      "|     3968|     Aaron|     Hall|434826|     54:10.9|Engineering|\n",
      "|      403|     Aaron|    Watts|379063|     04:33.5|  Marketing|\n",
      "|     4917|     Aaron|   Keller|171408|     52:23.8|      Admin|\n",
      "|      907|     Aaron|Middleton|316512|     43:00.4|    Account|\n",
      "|     5080|     Aaron| Holloway|394001|     06:55.9|      Admin|\n",
      "|     2704|     Aaron|    Ramos|115298|     00:59.7|  Marketing|\n",
      "|     5468|     Aaron|   Powers|238662|     49:26.7|Engineering|\n",
      "|     1550|     Aaron|  Hoffman|139818|     47:19.6|  Marketing|\n",
      "|     5756|     Aaron|   Martin|436324|     09:32.1|      Admin|\n",
      "|     2174|     Aaron|   Jacobs|317519|     26:35.0|      Admin|\n",
      "|     5907|     Aaron|   Dorsey| 85414|     48:10.9|    Account|\n",
      "|       41|     Aaron|   Rivera|235488|     39:55.6|Engineering|\n",
      "|     6231|     Aaron|   Morgan|408266|     03:54.5|    Account|\n",
      "|     3186|     Aaron|  Jackson|480247|     08:05.1|    Account|\n",
      "|     6325|     Aaron|   Duncan|414977|     51:49.0|  Marketing|\n",
      "|      584|     Aaron|  Hensley|483579|     04:40.4|      Admin|\n",
      "+---------+----------+---------+------+------------+-----------+\n",
      "only showing top 20 rows\n",
      "\n"
     ]
    }
   ],
   "source": [
    "worker_df.orderBy(col('first_name').asc()).show()"
   ]
  },
  {
   "cell_type": "markdown",
   "metadata": {},
   "source": [
    "#### Q-12. Print all Worker details from the Worker table order by FIRST_NAME Ascending and DEPARTMENT Descending."
   ]
  },
  {
   "cell_type": "code",
   "execution_count": 28,
   "metadata": {},
   "outputs": [
    {
     "name": "stdout",
     "output_type": "stream",
     "text": [
      "+---------+----------+---------+------+------------+-----------+\n",
      "|worker_id|first_name|last_name|salary|joining_date| department|\n",
      "+---------+----------+---------+------+------------+-----------+\n",
      "|     2608|     Aaron|    Brown| 75495|     14:39.2|  Marketing|\n",
      "|     6325|     Aaron|   Duncan|414977|     51:49.0|  Marketing|\n",
      "|     2704|     Aaron|    Ramos|115298|     00:59.7|  Marketing|\n",
      "|      403|     Aaron|    Watts|379063|     04:33.5|  Marketing|\n",
      "|     1550|     Aaron|  Hoffman|139818|     47:19.6|  Marketing|\n",
      "|     6906|     Aaron|   Hansen|176409|     54:17.1|  Marketing|\n",
      "|     8124|     Aaron|    Scott|201596|     25:51.3|  Marketing|\n",
      "|     9835|     Aaron|  Elliott| 76718|     49:50.0|  Marketing|\n",
      "|     1974|     Aaron|   Torres|341462|     17:24.9|         HR|\n",
      "|      226|     Aaron| Williams|375373|     09:22.7|         HR|\n",
      "|     9935|     Aaron|  Mueller|368324|     25:46.0|         HR|\n",
      "|      187|     Aaron|    Brown|415780|     04:47.4|Engineering|\n",
      "|      994|     Aaron|     West| 54077|     53:31.5|Engineering|\n",
      "|       41|     Aaron|   Rivera|235488|     39:55.6|Engineering|\n",
      "|     2955|     Aaron|   Butler|398344|     15:40.4|Engineering|\n",
      "|     3845|     Aaron|   Cooper|372431|     20:46.6|Engineering|\n",
      "|     3968|     Aaron|     Hall|434826|     54:10.9|Engineering|\n",
      "|     5468|     Aaron|   Powers|238662|     49:26.7|Engineering|\n",
      "|     6720|     Aaron|   Murphy|239213|     25:32.5|Engineering|\n",
      "|     6874|     Aaron|   Garcia|115716|     53:33.0|Engineering|\n",
      "+---------+----------+---------+------+------------+-----------+\n",
      "only showing top 20 rows\n",
      "\n"
     ]
    }
   ],
   "source": [
    "worker_df.orderBy(col('first_name').asc(),col('department').desc()).show()"
   ]
  },
  {
   "cell_type": "markdown",
   "metadata": {},
   "source": [
    "#### Q-13. Print details for Workers with the first name as “Vipul” and “Satish” from Worker table."
   ]
  },
  {
   "cell_type": "code",
   "execution_count": 29,
   "metadata": {},
   "outputs": [
    {
     "name": "stdout",
     "output_type": "stream",
     "text": [
      "+---------+----------+---------+------+------------+----------+\n",
      "|worker_id|first_name|last_name|salary|joining_date|department|\n",
      "+---------+----------+---------+------+------------+----------+\n",
      "+---------+----------+---------+------+------------+----------+\n",
      "\n"
     ]
    }
   ],
   "source": [
    "worker_df.filter(col('first_name').isin('Vipul', 'Satish')).show()"
   ]
  },
  {
   "cell_type": "markdown",
   "metadata": {},
   "source": [
    "#### Q-14. Print details of workers excluding first names, “Vipul” and “Satish” from Worker table."
   ]
  },
  {
   "cell_type": "code",
   "execution_count": 31,
   "metadata": {},
   "outputs": [
    {
     "name": "stdout",
     "output_type": "stream",
     "text": [
      "+---------+----------+---------+------+------------+-----------+\n",
      "|worker_id|first_name|last_name|salary|joining_date| department|\n",
      "+---------+----------+---------+------+------------+-----------+\n",
      "|        1|     Megan|       Li|492720|     26:31.7|      Admin|\n",
      "|        2| Katherine|    Mccoy|251979|     47:06.7|         HR|\n",
      "|        3|    Robert|    Banks|447386|     57:31.6|  Marketing|\n",
      "|        4|  Jonathan|   Miller|270500|     11:21.1|         HR|\n",
      "|        5|   William|  Elliott| 71225|     54:32.3|         HR|\n",
      "|        6|   Richard|       Le|185746|     45:33.0|Engineering|\n",
      "|        7|   Kristen|    Davis|318055|     36:46.6|    Account|\n",
      "|        8|     Kevin|   Thomas|304766|     30:42.8|      Admin|\n",
      "|        9|    Thomas|   Harris|262302|     22:34.8|      Admin|\n",
      "|       10|    Brandy|  Sanchez|460936|     48:18.7|    Account|\n",
      "|       11|   Rebecca|     Mack|485081|     20:15.9|Engineering|\n",
      "|       12|   William|Rodriguez|209023|     13:13.3|         HR|\n",
      "|       13|      Juan|   Murray|299874|     17:50.2|         HR|\n",
      "|       14|   Katelyn|   Harris|237720|     00:51.7|Engineering|\n",
      "|       15| Christine|     Carr|355860|     11:26.8|Engineering|\n",
      "|       16|      John|   Castro|164526|     06:48.2|    Account|\n",
      "|       17|     Renee|  Holland|314601|     53:02.4|    Account|\n",
      "|       18|     Tonya|   Osborn|123019|     36:59.0|Engineering|\n",
      "|       19|      Lisa|   Foster|197764|     10:51.4|  Marketing|\n",
      "|       20|    Rachel|   Barnes|123267|     23:25.2|    Account|\n",
      "+---------+----------+---------+------+------------+-----------+\n",
      "only showing top 20 rows\n",
      "\n"
     ]
    }
   ],
   "source": [
    "worker_df.filter(~col('first_name').isin('Vipul', 'Satish')).show()"
   ]
  }
 ],
 "metadata": {
  "kernelspec": {
   "display_name": "pyspark",
   "language": "python",
   "name": "python3"
  },
  "language_info": {
   "codemirror_mode": {
    "name": "ipython",
    "version": 3
   },
   "file_extension": ".py",
   "mimetype": "text/x-python",
   "name": "python",
   "nbconvert_exporter": "python",
   "pygments_lexer": "ipython3",
   "version": "3.12.4"
  }
 },
 "nbformat": 4,
 "nbformat_minor": 2
}
